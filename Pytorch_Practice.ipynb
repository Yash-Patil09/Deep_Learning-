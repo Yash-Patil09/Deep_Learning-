{
  "nbformat": 4,
  "nbformat_minor": 0,
  "metadata": {
    "colab": {
      "provenance": [],
      "authorship_tag": "ABX9TyOOuKsnn4M8cU3mwm8v7LOd",
      "include_colab_link": true
    },
    "kernelspec": {
      "name": "python3",
      "display_name": "Python 3"
    },
    "language_info": {
      "name": "python"
    }
  },
  "cells": [
    {
      "cell_type": "markdown",
      "metadata": {
        "id": "view-in-github",
        "colab_type": "text"
      },
      "source": [
        "<a href=\"https://colab.research.google.com/github/Yash-Patil09/Deep_Learning-/blob/main/Pytorch_Practice.ipynb\" target=\"_parent\"><img src=\"https://colab.research.google.com/assets/colab-badge.svg\" alt=\"Open In Colab\"/></a>"
      ]
    },
    {
      "cell_type": "code",
      "source": [
        "import torch\n",
        "import numpy as np"
      ],
      "metadata": {
        "id": "1C6j4up0TYT-"
      },
      "execution_count": 1,
      "outputs": []
    },
    {
      "cell_type": "markdown",
      "source": [
        "**Creating Tensors**"
      ],
      "metadata": {
        "id": "TzsOEMdqU8qM"
      }
    },
    {
      "cell_type": "code",
      "source": [
        "scaler = torch.tensor([5.0])\n",
        "vector = torch.tensor([1,2,3])\n",
        "matrix = torch.tensor([[1,2],[3,4]])\n",
        "cube = torch.tensor([[1,2,3],[3,4,5],[7,8,9]])\n",
        "\n",
        "#printing them\n",
        "print(f\"Scalar: {scaler}, Shape: {scaler.shape}\")\n",
        "print(f\"Vector: {vector}, Shape: {vector.shape}\")\n",
        "print(f\"Matrix: {matrix}, Shape: {matrix.shape}\")\n",
        "print(f\"Cube:  {cube}, Shape: {cube.shape}\")"
      ],
      "metadata": {
        "colab": {
          "base_uri": "https://localhost:8080/"
        },
        "id": "AwLSLtV4U8U6",
        "outputId": "33a12a22-aed0-466f-a1a5-8458f26a8ac9"
      },
      "execution_count": 4,
      "outputs": [
        {
          "output_type": "stream",
          "name": "stdout",
          "text": [
            "Scalar: tensor([5.]), Shape: torch.Size([1])\n",
            "Vector: tensor([1, 2, 3]), Shape: torch.Size([3])\n",
            "Matrix: tensor([[1, 2],\n",
            "        [3, 4]]), Shape: torch.Size([2, 2])\n",
            "Cube:  tensor([[1, 2, 3],\n",
            "        [3, 4, 5],\n",
            "        [7, 8, 9]]), Shape: torch.Size([3, 3])\n"
          ]
        }
      ]
    },
    {
      "cell_type": "code",
      "source": [
        "list = [1,2,3,4,5]\n",
        "tensor_1d = torch.tensor(list)\n",
        "print(f\"List : {tensor_1d}\")\n",
        "\n",
        "list_2d = [[133,44,55],[567,33,232]]\n",
        "tensor_2d = torch.tensor(list_2d)\n",
        "print(f\"List : {tensor_2d}\")"
      ],
      "metadata": {
        "colab": {
          "base_uri": "https://localhost:8080/"
        },
        "id": "LMa8s1L0U6EZ",
        "outputId": "6ea21adb-9fcf-4798-fbfe-501371d28e8f"
      },
      "execution_count": 5,
      "outputs": [
        {
          "output_type": "stream",
          "name": "stdout",
          "text": [
            "List : tensor([1, 2, 3, 4, 5])\n",
            "List : tensor([[133,  44,  55],\n",
            "        [567,  33, 232]])\n"
          ]
        }
      ]
    },
    {
      "cell_type": "code",
      "source": [
        "np_array = np.array([1,2,33,44])\n",
        "tensor_fromNUMPy = torch.from_numpy(np_array)\n",
        "\n",
        "print(tensor_fromNUMPy)"
      ],
      "metadata": {
        "colab": {
          "base_uri": "https://localhost:8080/"
        },
        "id": "Jidxlj2kZAQq",
        "outputId": "a1ba8a02-e1de-46d3-dcda-220e863bde77"
      },
      "execution_count": 6,
      "outputs": [
        {
          "output_type": "stream",
          "name": "stdout",
          "text": [
            "tensor([ 1,  2, 33, 44])\n"
          ]
        }
      ]
    },
    {
      "cell_type": "code",
      "source": [
        "tens = torch.tensor([1,2,3,4])\n",
        "num = tens.numpy()\n",
        "\n",
        "print(num)"
      ],
      "metadata": {
        "colab": {
          "base_uri": "https://localhost:8080/"
        },
        "id": "_6FKYimTZx8Z",
        "outputId": "76fafa21-2ac0-431f-c922-1dddd65a7e45"
      },
      "execution_count": 7,
      "outputs": [
        {
          "output_type": "stream",
          "name": "stdout",
          "text": [
            "[1 2 3 4]\n"
          ]
        }
      ]
    },
    {
      "cell_type": "code",
      "source": [
        "np_array[0] = 100\n",
        "print(f\"NP array: {np_array}\")\n",
        "print(f\"Tensor:{tensor_fromNUMPy}\")\n"
      ],
      "metadata": {
        "colab": {
          "base_uri": "https://localhost:8080/"
        },
        "id": "kkj09brxaHXH",
        "outputId": "0fbd178e-bb40-43ed-daeb-70d4cdf84eeb"
      },
      "execution_count": 8,
      "outputs": [
        {
          "output_type": "stream",
          "name": "stdout",
          "text": [
            "NP array: [100   2  33  44]\n",
            "Tensor:tensor([100,   2,  33,  44])\n"
          ]
        }
      ]
    },
    {
      "cell_type": "markdown",
      "source": [
        "Modification in one affects the other\n",
        "\n",
        "so lets make the clone"
      ],
      "metadata": {
        "id": "mU2f_PYiau62"
      }
    },
    {
      "cell_type": "code",
      "source": [
        "tensor_clone = torch.from_numpy(np_array).clone()\n",
        "tensor_copy = torch.from_numpy(np_array.copy())\n",
        "\n",
        "print(tensor_clone)\n",
        "print(tensor_copy)\n"
      ],
      "metadata": {
        "colab": {
          "base_uri": "https://localhost:8080/"
        },
        "id": "4SEgNjyearYK",
        "outputId": "049ab2da-69e5-4c80-e4e8-dd1275e3ce9c"
      },
      "execution_count": 9,
      "outputs": [
        {
          "output_type": "stream",
          "name": "stdout",
          "text": [
            "tensor([100,   2,  33,  44])\n",
            "tensor([100,   2,  33,  44])\n"
          ]
        }
      ]
    },
    {
      "cell_type": "markdown",
      "source": [
        "**Factory Functions**"
      ],
      "metadata": {
        "id": "DZAIqABfIAh4"
      }
    },
    {
      "cell_type": "code",
      "source": [
        "zeroes = torch.zeros(3,4)\n",
        "ones = torch.ones(2,2,3)\n",
        "full = torch.full((2,3),7)\n",
        "\n",
        "print(zeroes)\n",
        "print(ones)\n",
        "print(full)"
      ],
      "metadata": {
        "colab": {
          "base_uri": "https://localhost:8080/"
        },
        "id": "puJK78l0bD8Y",
        "outputId": "4be0bc43-1d5c-4418-b63c-981f3a1989a3"
      },
      "execution_count": 10,
      "outputs": [
        {
          "output_type": "stream",
          "name": "stdout",
          "text": [
            "tensor([[0., 0., 0., 0.],\n",
            "        [0., 0., 0., 0.],\n",
            "        [0., 0., 0., 0.]])\n",
            "tensor([[[1., 1., 1.],\n",
            "         [1., 1., 1.]],\n",
            "\n",
            "        [[1., 1., 1.],\n",
            "         [1., 1., 1.]]])\n",
            "tensor([[7, 7, 7],\n",
            "        [7, 7, 7]])\n"
          ]
        }
      ]
    },
    {
      "cell_type": "code",
      "source": [
        "identity = torch.eye(6)\n",
        "print(identity)"
      ],
      "metadata": {
        "colab": {
          "base_uri": "https://localhost:8080/"
        },
        "id": "o1d6KrhmIOCS",
        "outputId": "54da042d-24fc-4696-9060-7d1d670212ab"
      },
      "execution_count": 11,
      "outputs": [
        {
          "output_type": "stream",
          "name": "stdout",
          "text": [
            "tensor([[1., 0., 0., 0., 0., 0.],\n",
            "        [0., 1., 0., 0., 0., 0.],\n",
            "        [0., 0., 1., 0., 0., 0.],\n",
            "        [0., 0., 0., 1., 0., 0.],\n",
            "        [0., 0., 0., 0., 1., 0.],\n",
            "        [0., 0., 0., 0., 0., 1.]])\n"
          ]
        }
      ]
    },
    {
      "cell_type": "code",
      "source": [
        "#Random Tensors\n",
        "\n",
        "random_uniform = torch.rand(2,3)\n",
        "random_normal = torch.randn(2,3)\n",
        "random_int = torch.randint(0,10,(2,3))\n",
        "\n",
        "print(random_uniform)\n",
        "print(random_normal)\n",
        "print(random_int)"
      ],
      "metadata": {
        "colab": {
          "base_uri": "https://localhost:8080/"
        },
        "id": "9qlhW2BZI-GZ",
        "outputId": "d2f3cd7d-7a40-4e37-a374-a55062e0614d"
      },
      "execution_count": 12,
      "outputs": [
        {
          "output_type": "stream",
          "name": "stdout",
          "text": [
            "tensor([[0.3712, 0.3838, 0.4073],\n",
            "        [0.5150, 0.6022, 0.0074]])\n",
            "tensor([[-0.7790, -0.4517,  1.1791],\n",
            "        [ 0.2732, -1.1575,  0.4228]])\n",
            "tensor([[6, 6, 1],\n",
            "        [0, 6, 4]])\n"
          ]
        }
      ]
    },
    {
      "cell_type": "code",
      "source": [
        "#Sequences\n",
        "\n",
        "arange = torch.arange(0,10,2)\n",
        "linspace = torch.linspace(0,1,4)\n",
        "logspace = torch.logspace(0,1,5)\n",
        "\n",
        "print(arange)\n",
        "print(linspace)\n",
        "print(logspace)"
      ],
      "metadata": {
        "colab": {
          "base_uri": "https://localhost:8080/"
        },
        "id": "CNxVheCoJ0fb",
        "outputId": "0276bcb2-f5e4-42d5-e79a-dc913450881a"
      },
      "execution_count": 13,
      "outputs": [
        {
          "output_type": "stream",
          "name": "stdout",
          "text": [
            "tensor([0, 2, 4, 6, 8])\n",
            "tensor([0.0000, 0.3333, 0.6667, 1.0000])\n",
            "tensor([ 1.0000,  1.7783,  3.1623,  5.6234, 10.0000])\n"
          ]
        }
      ]
    },
    {
      "cell_type": "markdown",
      "source": [
        "**Properties and Attributes**"
      ],
      "metadata": {
        "id": "jdz3b9OSLhMU"
      }
    },
    {
      "cell_type": "code",
      "source": [
        "tensor = torch.rand(2,3,4)\n",
        "print(tensor)"
      ],
      "metadata": {
        "colab": {
          "base_uri": "https://localhost:8080/"
        },
        "id": "86Pr67bOKTVU",
        "outputId": "32430ec9-c59f-4ded-bc2d-121ff83711b1"
      },
      "execution_count": 14,
      "outputs": [
        {
          "output_type": "stream",
          "name": "stdout",
          "text": [
            "tensor([[[0.6017, 0.6274, 0.0799, 0.9930],\n",
            "         [0.0854, 0.1489, 0.1745, 0.2158],\n",
            "         [0.0813, 0.3266, 0.8176, 0.4838]],\n",
            "\n",
            "        [[0.2294, 0.2292, 0.7893, 0.6161],\n",
            "         [0.1642, 0.2381, 0.4621, 0.0630],\n",
            "         [0.6992, 0.2156, 0.2005, 0.9569]]])\n"
          ]
        }
      ]
    },
    {
      "cell_type": "code",
      "source": [
        "#Shape and Size\n",
        "\n",
        "print(f\"Shape: {tensor.shape}\")\n",
        "print(f'Size: {tensor.size()}')\n",
        "print(f\"Dimension: {tensor.ndim}\")\n",
        "print(f\"Total No. of Elements: {tensor.numel()}\")"
      ],
      "metadata": {
        "colab": {
          "base_uri": "https://localhost:8080/"
        },
        "id": "JGiwdtJxLt6b",
        "outputId": "f365e551-36e1-4287-f60a-3fa0c1048ba0"
      },
      "execution_count": 15,
      "outputs": [
        {
          "output_type": "stream",
          "name": "stdout",
          "text": [
            "Shape: torch.Size([2, 3, 4])\n",
            "Size: torch.Size([2, 3, 4])\n",
            "Dimension: 3\n",
            "Total No. of Elements: 24\n"
          ]
        }
      ]
    },
    {
      "cell_type": "code",
      "source": [
        "# Data type and device\n",
        "print(f\"Data type: {tensor.dtype}\")\n",
        "print(f\"Device: {tensor.device}\")\n",
        "print(f\"Memory layout: {tensor.layout}\")\n",
        "\n",
        "# Check properties\n",
        "print(f\"Requires grad: {tensor.requires_grad}\")\n",
        "print(f\"Is leaf: {tensor.is_leaf}\")\n",
        "print(f\"Is contiguous: {tensor.is_contiguous()}\")"
      ],
      "metadata": {
        "colab": {
          "base_uri": "https://localhost:8080/"
        },
        "id": "ncvRtYtMMZMS",
        "outputId": "b0c46d2d-4eb7-4615-e17f-93a9fc3de5dc"
      },
      "execution_count": 16,
      "outputs": [
        {
          "output_type": "stream",
          "name": "stdout",
          "text": [
            "Data type: torch.float32\n",
            "Device: cpu\n",
            "Memory layout: torch.strided\n",
            "Requires grad: False\n",
            "Is leaf: True\n",
            "Is contiguous: True\n"
          ]
        }
      ]
    },
    {
      "cell_type": "code",
      "source": [
        "#Type Conversion\n",
        "\n",
        "x = torch.tensor([1,2,4])\n",
        "print(x.dtype)\n",
        "\n",
        "x_double = x.double()\n",
        "print(x_double.dtype)\n",
        "\n",
        "x_float = x.float()\n",
        "print(x_float.dtype)\n",
        "x_float = x.float()\n",
        "x_long = x.long()\n",
        "x_bool = x.bool()"
      ],
      "metadata": {
        "colab": {
          "base_uri": "https://localhost:8080/"
        },
        "id": "CZiHl3K-Mx8O",
        "outputId": "3f62f0dc-892b-40af-8906-56c5c4627055"
      },
      "execution_count": 17,
      "outputs": [
        {
          "output_type": "stream",
          "name": "stdout",
          "text": [
            "torch.int64\n",
            "torch.float64\n",
            "torch.float32\n"
          ]
        }
      ]
    },
    {
      "cell_type": "markdown",
      "source": [
        "**Indexing and Slicing**"
      ],
      "metadata": {
        "id": "GKUUvUpyNmEA"
      }
    },
    {
      "cell_type": "code",
      "source": [
        "x = torch.tensor([[1,2,3,4],\n",
        "                 [5,6,7,8],\n",
        "                 [9,10,11,12]])"
      ],
      "metadata": {
        "id": "jsqtAlwRNHO7"
      },
      "execution_count": 18,
      "outputs": []
    },
    {
      "cell_type": "code",
      "source": [
        "#Single elememt\n",
        "print(f'Element at x[2,3] :{x[2,3]}')\n",
        "print(f\"Element at 7: {x[1,2]}\")"
      ],
      "metadata": {
        "colab": {
          "base_uri": "https://localhost:8080/"
        },
        "id": "LKYpENe7OrZv",
        "outputId": "4faca5cc-d563-4ca2-f177-260886b773d6"
      },
      "execution_count": 19,
      "outputs": [
        {
          "output_type": "stream",
          "name": "stdout",
          "text": [
            "Element at x[2,3] :12\n",
            "Element at 7: 7\n"
          ]
        }
      ]
    },
    {
      "cell_type": "code",
      "source": [
        "#Row and column access\n",
        "print(f\"First row: {x[0]}\")\n",
        "print(f\"Last Column: {x[:,-1]}\")\n",
        "print(f\"2row and 2nd column: {x[1],x[:,-3]}\")"
      ],
      "metadata": {
        "colab": {
          "base_uri": "https://localhost:8080/"
        },
        "id": "6QBqCv6hO5jE",
        "outputId": "b29d7334-a7e1-4520-de9e-0c64d2b10ce9"
      },
      "execution_count": 20,
      "outputs": [
        {
          "output_type": "stream",
          "name": "stdout",
          "text": [
            "First row: tensor([1, 2, 3, 4])\n",
            "Last Column: tensor([ 4,  8, 12])\n",
            "2row and 2nd column: (tensor([5, 6, 7, 8]), tensor([ 2,  6, 10]))\n"
          ]
        }
      ]
    },
    {
      "cell_type": "code",
      "source": [
        "# Multiple rows/columns\n",
        "print(f\"First two rows: \\n{x[:2,:]}\")\n",
        "print(f\"Last two columns: \\n{x[:, -2:]}\")"
      ],
      "metadata": {
        "colab": {
          "base_uri": "https://localhost:8080/"
        },
        "id": "dvf4f6b8PwXM",
        "outputId": "026f7fe1-c19f-4900-a881-02e5230440ed"
      },
      "execution_count": 21,
      "outputs": [
        {
          "output_type": "stream",
          "name": "stdout",
          "text": [
            "First two rows: \n",
            "tensor([[1, 2, 3, 4],\n",
            "        [5, 6, 7, 8]])\n",
            "Last two columns: \n",
            "tensor([[ 3,  4],\n",
            "        [ 7,  8],\n",
            "        [11, 12]])\n"
          ]
        }
      ]
    },
    {
      "cell_type": "code",
      "source": [
        "# Boolean indexing\n",
        "x = torch.randn(3, 4)\n",
        "mask = x > 0\n",
        "positive_elements = x[mask]\n",
        "print(f\"Positive elements: {positive_elements}\")\n",
        "print(f\"Number of elem:{x[mask].numel()}\")"
      ],
      "metadata": {
        "colab": {
          "base_uri": "https://localhost:8080/"
        },
        "id": "bcpfHRrFSEcZ",
        "outputId": "abdaa543-ca8f-4cc0-b12a-ccae7c0f81c9"
      },
      "execution_count": 22,
      "outputs": [
        {
          "output_type": "stream",
          "name": "stdout",
          "text": [
            "Positive elements: tensor([0.1117, 0.8755, 0.6757, 0.1483, 1.0738, 0.2894, 0.8639])\n",
            "Number of elem:7\n"
          ]
        }
      ]
    },
    {
      "cell_type": "code",
      "source": [
        "# Conditional selection\n",
        "x = torch.tensor([1, -2, 3, -4, 5])\n",
        "positive_x = torch.where(x > 0, x, torch.tensor(0))\n",
        "print(f\"Replace negative with 0: {positive_x}\")"
      ],
      "metadata": {
        "colab": {
          "base_uri": "https://localhost:8080/"
        },
        "id": "_lzXhthISZb1",
        "outputId": "35a26c15-f40b-4148-930c-9c59a73ca6d5"
      },
      "execution_count": 23,
      "outputs": [
        {
          "output_type": "stream",
          "name": "stdout",
          "text": [
            "Replace negative with 0: tensor([1, 0, 3, 0, 5])\n"
          ]
        }
      ]
    },
    {
      "cell_type": "code",
      "source": [
        "# Advanced indexing with tensors\n",
        "x = torch.tensor([[1, 2, 3],\n",
        "                  [4, 5, 6],\n",
        "                  [7, 8, 9]])\n",
        "\n",
        "# Select specific elements\n",
        "row_indices = torch.tensor([0, 1, 2])\n",
        "col_indices = torch.tensor([0, 1, 2])\n",
        "diagonal = x[row_indices, col_indices]\n",
        "print(f\"Diagonal elements: {diagonal}\")\n",
        "\n",
        "# Fancy indexing\n",
        "indices = torch.tensor([[0, 1], [2, 0]])\n",
        "selected = x[indices]\n",
        "print(f\"Selected elements: \\n{selected}\")"
      ],
      "metadata": {
        "colab": {
          "base_uri": "https://localhost:8080/"
        },
        "id": "-Tc5QAH9S7FG",
        "outputId": "8acff0db-d90b-48d4-8e89-098d0884990b"
      },
      "execution_count": 24,
      "outputs": [
        {
          "output_type": "stream",
          "name": "stdout",
          "text": [
            "Diagonal elements: tensor([1, 5, 9])\n",
            "Selected elements: \n",
            "tensor([[[1, 2, 3],\n",
            "         [4, 5, 6]],\n",
            "\n",
            "        [[7, 8, 9],\n",
            "         [1, 2, 3]]])\n"
          ]
        }
      ]
    },
    {
      "cell_type": "markdown",
      "source": [
        "**Slicing Ops**"
      ],
      "metadata": {
        "id": "G9ANqJF3UkM8"
      }
    },
    {
      "cell_type": "code",
      "source": [
        "x = torch.arange(20).reshape(4,5)\n",
        "x"
      ],
      "metadata": {
        "colab": {
          "base_uri": "https://localhost:8080/"
        },
        "id": "X8NnQMZ5TOWV",
        "outputId": "3fb0c4c5-438c-49e4-9867-1371c6c86bd7"
      },
      "execution_count": 25,
      "outputs": [
        {
          "output_type": "execute_result",
          "data": {
            "text/plain": [
              "tensor([[ 0,  1,  2,  3,  4],\n",
              "        [ 5,  6,  7,  8,  9],\n",
              "        [10, 11, 12, 13, 14],\n",
              "        [15, 16, 17, 18, 19]])"
            ]
          },
          "metadata": {},
          "execution_count": 25
        }
      ]
    },
    {
      "cell_type": "code",
      "source": [
        "print(f\"Every other row: {x[::2]}\")"
      ],
      "metadata": {
        "colab": {
          "base_uri": "https://localhost:8080/"
        },
        "id": "NtWERkaYUu64",
        "outputId": "e2be05f1-945e-49ef-a40f-318b9ef47958"
      },
      "execution_count": 26,
      "outputs": [
        {
          "output_type": "stream",
          "name": "stdout",
          "text": [
            "Every other row: tensor([[ 0,  1,  2,  3,  4],\n",
            "        [10, 11, 12, 13, 14]])\n"
          ]
        }
      ]
    },
    {
      "cell_type": "code",
      "source": [
        "# Every other column\n",
        "print(f\"Every other column: {x[:, ::2]}\")"
      ],
      "metadata": {
        "colab": {
          "base_uri": "https://localhost:8080/"
        },
        "id": "_rYj5O_6VTu1",
        "outputId": "971dd12a-62d7-40d0-904e-fe9dce10f4a3"
      },
      "execution_count": 27,
      "outputs": [
        {
          "output_type": "stream",
          "name": "stdout",
          "text": [
            "Every other column: tensor([[ 0,  2,  4],\n",
            "        [ 5,  7,  9],\n",
            "        [10, 12, 14],\n",
            "        [15, 17, 19]])\n"
          ]
        }
      ]
    },
    {
      "cell_type": "code",
      "source": [
        "# Reverse operations\n",
        "print(f\"Reversed rows: \\n{torch.flip(x, dims=[0])}\")\n",
        "print(f\"Reversed columns: \\n{torch.flip(x, dims=[1])}\")\n",
        "\n",
        "# Complex slicing\n",
        "print(f\"Middle 2x3 submatrix: \\n{x[1:3, 1:4]}\")"
      ],
      "metadata": {
        "colab": {
          "base_uri": "https://localhost:8080/"
        },
        "id": "vOyctWCCViuX",
        "outputId": "37cf98cd-3c27-438d-e659-71c2b292c07a"
      },
      "execution_count": 28,
      "outputs": [
        {
          "output_type": "stream",
          "name": "stdout",
          "text": [
            "Reversed rows: \n",
            "tensor([[15, 16, 17, 18, 19],\n",
            "        [10, 11, 12, 13, 14],\n",
            "        [ 5,  6,  7,  8,  9],\n",
            "        [ 0,  1,  2,  3,  4]])\n",
            "Reversed columns: \n",
            "tensor([[ 4,  3,  2,  1,  0],\n",
            "        [ 9,  8,  7,  6,  5],\n",
            "        [14, 13, 12, 11, 10],\n",
            "        [19, 18, 17, 16, 15]])\n",
            "Middle 2x3 submatrix: \n",
            "tensor([[ 6,  7,  8],\n",
            "        [11, 12, 13]])\n"
          ]
        }
      ]
    },
    {
      "cell_type": "markdown",
      "source": [
        "**Reshaping and Manipulating Tensors**"
      ],
      "metadata": {
        "id": "OgQssTwsWX4x"
      }
    },
    {
      "cell_type": "code",
      "source": [
        "x = torch.arange(24)\n",
        "print(f\"Original: {x}\")"
      ],
      "metadata": {
        "colab": {
          "base_uri": "https://localhost:8080/"
        },
        "id": "v-YGRaBxV1bh",
        "outputId": "92aa9281-8656-4d0b-b7ca-4225bc745cc9"
      },
      "execution_count": 29,
      "outputs": [
        {
          "output_type": "stream",
          "name": "stdout",
          "text": [
            "Original: tensor([ 0,  1,  2,  3,  4,  5,  6,  7,  8,  9, 10, 11, 12, 13, 14, 15, 16, 17,\n",
            "        18, 19, 20, 21, 22, 23])\n"
          ]
        }
      ]
    },
    {
      "cell_type": "code",
      "source": [
        "# Reshape (view)\n",
        "x_2d = x.view(4, 6)\n",
        "x_3d = x.view(2, 3, 4)\n",
        "x_4d = x.view(2, 2, 2, 3)\n",
        "\n",
        "print(f\"2D view (4x6): \\n{x_2d}\")\n",
        "print(f\"3D view (2x3x4): \\n{x_3d}\")\n",
        "print(f\"4D view (2x2x2x3): \\n{x_4d}\")"
      ],
      "metadata": {
        "colab": {
          "base_uri": "https://localhost:8080/"
        },
        "id": "DBI-CMliWi6H",
        "outputId": "a5176dc7-d162-4ac5-a03b-323c56fde261"
      },
      "execution_count": 30,
      "outputs": [
        {
          "output_type": "stream",
          "name": "stdout",
          "text": [
            "2D view (4x6): \n",
            "tensor([[ 0,  1,  2,  3,  4,  5],\n",
            "        [ 6,  7,  8,  9, 10, 11],\n",
            "        [12, 13, 14, 15, 16, 17],\n",
            "        [18, 19, 20, 21, 22, 23]])\n",
            "3D view (2x3x4): \n",
            "tensor([[[ 0,  1,  2,  3],\n",
            "         [ 4,  5,  6,  7],\n",
            "         [ 8,  9, 10, 11]],\n",
            "\n",
            "        [[12, 13, 14, 15],\n",
            "         [16, 17, 18, 19],\n",
            "         [20, 21, 22, 23]]])\n",
            "4D view (2x2x2x3): \n",
            "tensor([[[[ 0,  1,  2],\n",
            "          [ 3,  4,  5]],\n",
            "\n",
            "         [[ 6,  7,  8],\n",
            "          [ 9, 10, 11]]],\n",
            "\n",
            "\n",
            "        [[[12, 13, 14],\n",
            "          [15, 16, 17]],\n",
            "\n",
            "         [[18, 19, 20],\n",
            "          [21, 22, 23]]]])\n"
          ]
        }
      ]
    },
    {
      "cell_type": "markdown",
      "source": [
        "**Mathematical Operations**"
      ],
      "metadata": {
        "id": "f5OW2-j7bw4c"
      }
    },
    {
      "cell_type": "code",
      "source": [
        "x =  torch.tensor([1.0,2.0,3.0])\n",
        "y =  torch.tensor([4.0,5.0,6.0])"
      ],
      "metadata": {
        "id": "4Ga82D49Wn0E"
      },
      "execution_count": 31,
      "outputs": []
    },
    {
      "cell_type": "code",
      "source": [
        "#Add\n",
        "add1 = x + y\n",
        "add2 = torch.add(x,y)\n",
        "add3 = x.add(y)\n",
        "\n",
        "print(add2)"
      ],
      "metadata": {
        "colab": {
          "base_uri": "https://localhost:8080/"
        },
        "id": "7wNgyrmpx7AK",
        "outputId": "badd530b-c649-4a7f-f6b7-0a0145944de3"
      },
      "execution_count": 35,
      "outputs": [
        {
          "output_type": "stream",
          "name": "stdout",
          "text": [
            "tensor([5., 7., 9.])\n"
          ]
        }
      ]
    },
    {
      "cell_type": "code",
      "source": [
        "from re import sub\n",
        "#Sub\n",
        "\n",
        "sub1 = y - x\n",
        "sub2 = torch.sub(y,x)\n",
        "\n",
        "print(sub2)"
      ],
      "metadata": {
        "colab": {
          "base_uri": "https://localhost:8080/"
        },
        "id": "j-6DC7cDyVLU",
        "outputId": "464e0e90-3503-4000-8522-c76952a7d348"
      },
      "execution_count": 37,
      "outputs": [
        {
          "output_type": "stream",
          "name": "stdout",
          "text": [
            "tensor([3., 3., 3.])\n"
          ]
        }
      ]
    },
    {
      "cell_type": "code",
      "source": [
        "#Mul\n",
        "mul1 = x * y\n",
        "mul2 = torch.mul(x,y)\n",
        "\n",
        "print(mul2)"
      ],
      "metadata": {
        "colab": {
          "base_uri": "https://localhost:8080/"
        },
        "id": "cXe8Fo1XyTRn",
        "outputId": "01aa0493-6c90-4599-cd5e-6b2921290a98"
      },
      "execution_count": 39,
      "outputs": [
        {
          "output_type": "stream",
          "name": "stdout",
          "text": [
            "tensor([ 4., 10., 18.])\n"
          ]
        }
      ]
    },
    {
      "cell_type": "markdown",
      "source": [
        "same for division"
      ],
      "metadata": {
        "id": "oFmUrg9mzNep"
      }
    },
    {
      "cell_type": "code",
      "source": [
        "#pow\n",
        "pow = x ** 2\n",
        "pow2 = torch.pow(x,2)\n",
        "\n",
        "print(pow2)"
      ],
      "metadata": {
        "colab": {
          "base_uri": "https://localhost:8080/"
        },
        "id": "CIVL2wgnyv8c",
        "outputId": "d2872204-8693-4fc4-e145-5637b3354825"
      },
      "execution_count": 42,
      "outputs": [
        {
          "output_type": "stream",
          "name": "stdout",
          "text": [
            "tensor([1., 4., 9.])\n"
          ]
        }
      ]
    },
    {
      "cell_type": "code",
      "source": [
        "x = torch.tensor([1.0, 2.0, 3.0, 4.0])\n",
        "\n",
        "# Trigonometric functions\n",
        "sin_x = torch.sin(x)\n",
        "cos_x = torch.cos(x)\n",
        "tan_x = torch.tan(x)\n",
        "\n",
        "# Exponential and logarithmic\n",
        "exp_x = torch.exp(x)\n",
        "log_x = torch.log(x)\n",
        "log10_x = torch.log10(x)\n",
        "sqrt_x = torch.sqrt(x)\n",
        "\n",
        "# Rounding functions\n",
        "x_float = torch.tensor([1.2, 2.7, 3.1, 4.9])\n",
        "floor_x = torch.floor(x_float)\n",
        "ceil_x = torch.ceil(x_float)\n",
        "round_x = torch.round(x_float)\n",
        "\n",
        "# Absolute value and sign\n",
        "x_mixed = torch.tensor([-2.0, -1.0, 0.0, 1.0, 2.0])\n",
        "abs_x = torch.abs(x_mixed)\n",
        "sign_x = torch.sign(x_mixed)\n",
        "\n",
        "print(f\"Sin: {sin_x}\")\n",
        "print(f\"Exp: {exp_x}\")\n",
        "print(f\"Floor: {floor_x}\")\n",
        "print(f\"Absolute: {abs_x}\")\n",
        "print(f\"Sign: {sign_x}\")"
      ],
      "metadata": {
        "colab": {
          "base_uri": "https://localhost:8080/"
        },
        "id": "OrRR9EyrzlyA",
        "outputId": "cdbb0113-7e34-45d1-bef4-90d520e0aaac"
      },
      "execution_count": 43,
      "outputs": [
        {
          "output_type": "stream",
          "name": "stdout",
          "text": [
            "Sin: tensor([ 0.8415,  0.9093,  0.1411, -0.7568])\n",
            "Exp: tensor([ 2.7183,  7.3891, 20.0855, 54.5981])\n",
            "Floor: tensor([1., 2., 3., 4.])\n",
            "Absolute: tensor([2., 1., 0., 1., 2.])\n",
            "Sign: tensor([-1., -1.,  0.,  1.,  1.])\n"
          ]
        }
      ]
    },
    {
      "cell_type": "code",
      "source": [
        "x = torch.tensor([[1.0, 2.0, 3.0],\n",
        "                  [4.0, 5.0, 6.0],\n",
        "                  [7.0, 8.0, 9.0]])"
      ],
      "metadata": {
        "id": "74my40iM0m-Q"
      },
      "execution_count": 44,
      "outputs": []
    },
    {
      "cell_type": "code",
      "source": [
        "sum_all = torch.sum(x)\n",
        "print(sum_all)"
      ],
      "metadata": {
        "colab": {
          "base_uri": "https://localhost:8080/"
        },
        "id": "VPe6HIJU1LiB",
        "outputId": "f39d5b56-3590-4042-f84d-403271ff1b7c"
      },
      "execution_count": 45,
      "outputs": [
        {
          "output_type": "stream",
          "name": "stdout",
          "text": [
            "tensor(45.)\n"
          ]
        }
      ]
    },
    {
      "cell_type": "code",
      "source": [
        "sum_dim0 = torch.sum(x, dim=0)\n",
        "sum_dim1 = torch.sum(x, dim=1)\n",
        "\n",
        "print(f\"Sum along dim 0: {sum_dim0}\")\n",
        "print(f\"Sum along dim 1: {sum_dim1}\")\n"
      ],
      "metadata": {
        "colab": {
          "base_uri": "https://localhost:8080/"
        },
        "id": "mJhWOeKG1Stj",
        "outputId": "dd758d21-e767-40de-e655-2342246a0714"
      },
      "execution_count": 46,
      "outputs": [
        {
          "output_type": "stream",
          "name": "stdout",
          "text": [
            "Sum along dim 0: tensor([12., 15., 18.])\n",
            "Sum along dim 1: tensor([ 6., 15., 24.])\n"
          ]
        }
      ]
    },
    {
      "cell_type": "code",
      "source": [
        "# Mean operations\n",
        "mean_all = torch.mean(x)\n",
        "mean_dim0 = torch.mean(x, dim=0)\n",
        "mean_dim1 = torch.mean(x, dim=1)\n",
        "\n",
        "print(f'Mean of all elements: {mean_all}')\n",
        "print(f'Mean along dim 0: {mean_dim0}')\n",
        "print(f'Mean along dim 1: {mean_dim1}')"
      ],
      "metadata": {
        "colab": {
          "base_uri": "https://localhost:8080/"
        },
        "id": "mMlt3i911as9",
        "outputId": "5efa9e02-4783-4138-a7ce-63337ea78f97"
      },
      "execution_count": 48,
      "outputs": [
        {
          "output_type": "stream",
          "name": "stdout",
          "text": [
            "Mean of all elements: 5.0\n",
            "Mean along dim 0: tensor([4., 5., 6.])\n",
            "Mean along dim 1: tensor([2., 5., 8.])\n"
          ]
        }
      ]
    },
    {
      "cell_type": "code",
      "source": [
        "#minMAX\n",
        "min_all = torch.min(x)\n",
        "max_all = torch.max(x)\n",
        "min_dim0, min_indices0 = torch.min(x, dim=0)  # Returns values and indices\n",
        "max_dim0, max_indices0 = torch.max(x, dim=1)\n",
        "\n",
        "\n",
        "print(f'Min of all elements: {min_all}')\n",
        "print(f'Max of all elements: {max_all}')\n",
        "print(f'Min along dim 0: {min_dim0}')\n",
        "print(f'Max along dim 0: {max_dim0}')"
      ],
      "metadata": {
        "colab": {
          "base_uri": "https://localhost:8080/"
        },
        "id": "c8OSIRoZ1rCg",
        "outputId": "b7f87c5e-9ce0-4c61-a461-1d66cdc16deb"
      },
      "execution_count": 52,
      "outputs": [
        {
          "output_type": "stream",
          "name": "stdout",
          "text": [
            "Min of all elements: 1.0\n",
            "Max of all elements: 9.0\n",
            "Min along dim 0: tensor([1., 2., 3.])\n",
            "Max along dim 0: tensor([3., 6., 9.])\n"
          ]
        }
      ]
    },
    {
      "cell_type": "markdown",
      "source": [
        "**Linear Algebra Operations**"
      ],
      "metadata": {
        "id": "lMYaanBp2XyO"
      }
    },
    {
      "cell_type": "code",
      "source": [
        "A = torch.randn(3,4)\n",
        "B = torch.randn(4, 2)\n",
        "\n",
        "print(A)\n",
        "print(B)"
      ],
      "metadata": {
        "colab": {
          "base_uri": "https://localhost:8080/"
        },
        "id": "AxN5wMiU2CBA",
        "outputId": "36c668b6-e80d-4cbe-e728-366a1bf2691c"
      },
      "execution_count": 55,
      "outputs": [
        {
          "output_type": "stream",
          "name": "stdout",
          "text": [
            "tensor([[ 0.3875, -0.5665, -0.6645, -1.7976],\n",
            "        [-0.0128, -1.3879, -0.6684, -0.4300],\n",
            "        [-0.5137,  0.9004,  1.7923, -0.7146]])\n",
            "tensor([[-0.8560,  0.6091],\n",
            "        [ 0.0689,  0.8751],\n",
            "        [-0.6537,  0.5321],\n",
            "        [-0.5265, -0.9190]])\n"
          ]
        }
      ]
    },
    {
      "cell_type": "code",
      "source": [
        "#Matrix Multiplication\n",
        "\n",
        "c1 = torch.mm(A,B)\n",
        "c2 = torch.matmul(A,B)\n",
        "c3 = A @ B\n",
        "\n",
        "print(c2)"
      ],
      "metadata": {
        "colab": {
          "base_uri": "https://localhost:8080/"
        },
        "id": "7QyclaUZ8yXH",
        "outputId": "06179b84-ee18-4f2a-ffbd-0f7d6b9322ce"
      },
      "execution_count": 54,
      "outputs": [
        {
          "output_type": "stream",
          "name": "stdout",
          "text": [
            "tensor([[ 1.2998,  0.8620],\n",
            "        [ 0.2502,  0.6358],\n",
            "        [-0.7970, -0.9786]])\n"
          ]
        }
      ]
    },
    {
      "cell_type": "code",
      "source": [
        "batch_A = torch.randn(5,3,4)\n",
        "batch_B = torch.randn(5,4,2)\n",
        "\n",
        "print(batch_A)\n",
        "print(batch_B)\n",
        "\n"
      ],
      "metadata": {
        "colab": {
          "base_uri": "https://localhost:8080/"
        },
        "id": "LTa7JK4d9DyF",
        "outputId": "3c73f9e2-a0a2-4025-dccf-f1850f58ede0"
      },
      "execution_count": 56,
      "outputs": [
        {
          "output_type": "stream",
          "name": "stdout",
          "text": [
            "tensor([[[-6.2714e-01,  8.1058e-01, -1.4553e+00,  4.3612e-01],\n",
            "         [ 1.2391e+00, -1.1809e+00,  4.2150e-01,  1.0821e+00],\n",
            "         [-1.4929e+00, -6.9643e-02,  1.5297e+00, -1.2650e+00]],\n",
            "\n",
            "        [[ 4.3439e-01, -9.4186e-01, -2.5393e-01,  1.0203e+00],\n",
            "         [-1.5448e+00, -1.7402e-01,  1.1004e+00,  2.0287e-01],\n",
            "         [ 1.0169e+00, -1.5874e-01, -1.2628e+00, -1.0017e+00]],\n",
            "\n",
            "        [[ 6.7619e-01,  7.2440e-01, -6.2300e-01,  8.7230e-01],\n",
            "         [-6.5799e-01,  7.1697e-01,  4.3245e-01,  1.5389e+00],\n",
            "         [-1.0742e+00,  6.2179e-01, -1.5840e-03, -1.8081e+00]],\n",
            "\n",
            "        [[ 1.1579e+00,  3.9555e-01,  1.4797e+00, -1.7083e+00],\n",
            "         [ 2.4333e-01, -5.3665e-01,  2.3511e-01, -9.9144e-01],\n",
            "         [ 3.7941e-02,  1.1061e+00,  1.0019e-01, -8.1751e-01]],\n",
            "\n",
            "        [[ 1.9903e+00, -7.2266e-01, -6.2885e-02,  5.6386e-01],\n",
            "         [ 1.5118e-01,  1.0842e+00,  1.6699e-01, -1.2934e+00],\n",
            "         [ 8.1294e-01, -7.8471e-01, -1.1769e+00,  6.9975e-01]]])\n",
            "tensor([[[-1.3045, -0.1528],\n",
            "         [ 0.4655, -2.3100],\n",
            "         [ 1.1505, -0.3143],\n",
            "         [-1.2368, -0.1082]],\n",
            "\n",
            "        [[-1.0915,  0.7618],\n",
            "         [-0.3073,  1.1839],\n",
            "         [-0.5374, -1.5604],\n",
            "         [ 1.5883,  0.5959]],\n",
            "\n",
            "        [[-0.5565, -1.2346],\n",
            "         [ 0.7976,  1.0367],\n",
            "         [ 1.0798, -1.6973],\n",
            "         [-0.9845,  1.2891]],\n",
            "\n",
            "        [[-0.3024,  0.0126],\n",
            "         [-0.2882,  0.3913],\n",
            "         [ 1.5427, -0.6332],\n",
            "         [-1.8453,  0.5775]],\n",
            "\n",
            "        [[ 0.7232,  0.1852],\n",
            "         [ 0.3534,  0.1984],\n",
            "         [-0.0586, -0.9771],\n",
            "         [-0.8977, -1.5179]]])\n"
          ]
        }
      ]
    },
    {
      "cell_type": "code",
      "source": [
        "batch_c1 = torch.bmm(batch_A, batch_B)\n",
        "batch_c2 = torch.matmul(batch_A, batch_B)\n",
        "\n",
        "print(batch_c1)"
      ],
      "metadata": {
        "colab": {
          "base_uri": "https://localhost:8080/"
        },
        "id": "2gSpA8k79fgZ",
        "outputId": "275e068c-dfeb-4de9-aee7-95128f78e18f"
      },
      "execution_count": 57,
      "outputs": [
        {
          "output_type": "stream",
          "name": "stdout",
          "text": [
            "tensor([[[-1.0182, -1.3665],\n",
            "         [-3.0197,  2.2890],\n",
            "         [ 5.2395,  0.0451]],\n",
            "\n",
            "        [[ 1.5723,  0.2201],\n",
            "         [ 1.4704, -2.9791],\n",
            "         [-1.9736,  1.9603]],\n",
            "\n",
            "        [[-1.3300,  2.0980],\n",
            "         [-0.1101,  2.8054],\n",
            "         [ 2.8721, -0.3574]],\n",
            "\n",
            "        [[ 4.9709, -1.7541],\n",
            "         [ 2.2733, -0.9283],\n",
            "         [ 1.3329, -0.1022]],\n",
            "\n",
            "        [[ 0.6815, -0.5691],\n",
            "         [ 1.6437,  2.0431],\n",
            "         [-0.2486,  0.0828]]])\n"
          ]
        }
      ]
    },
    {
      "cell_type": "code",
      "source": [
        "# Dot product and cross product\n",
        "v1 = torch.tensor([1.0, 2.0, 3.0])\n",
        "v2 = torch.tensor([4.0, 5.0, 6.0])\n",
        "\n",
        "dot_product = torch.dot(v1, v2)\n",
        "cross_product = torch.cross(v1, v2)\n",
        "\n",
        "print(f\"Dot product: {dot_product}\")\n",
        "print(f\"Cross product: {cross_product}\")"
      ],
      "metadata": {
        "colab": {
          "base_uri": "https://localhost:8080/"
        },
        "id": "bJa8qAgt9mVk",
        "outputId": "00f7a8e2-d683-4097-cb40-ec0e6e794d74"
      },
      "execution_count": 58,
      "outputs": [
        {
          "output_type": "stream",
          "name": "stdout",
          "text": [
            "Dot product: 32.0\n",
            "Cross product: tensor([-3.,  6., -3.])\n"
          ]
        }
      ]
    },
    {
      "cell_type": "code",
      "source": [
        "# Advanced linear algebra\n",
        "A = torch.randn(4, 4)\n",
        "\n",
        "# Eigenvalues and eigenvectors\n",
        "eigenvalues, eigenvectors = torch.linalg.eig(A) # Use torch.linalg.eig for both eigenvalues and eigenvectors\n",
        "\n",
        "# Singular Value Decomposition\n",
        "U, S, Vh = torch.linalg.svd(A) # Use torch.linalg.svd\n",
        "\n",
        "# Matrix determinant and inverse\n",
        "det_A = torch.linalg.det(A) # Use torch.linalg.det\n",
        "inv_A = torch.linalg.inv(A) # Use torch.linalg.inv\n",
        "\n",
        "# Norm operations\n",
        "frobenius_norm = torch.linalg.norm(A, ord='fro')  # Use torch.linalg.norm with ord='fro'\n",
        "l2_norm = torch.linalg.norm(v1, ord=2)            # Use torch.linalg.norm with ord=2\n",
        "l1_norm = torch.linalg.norm(v1, ord=1)            # Use torch.linalg.norm with ord=1\n",
        "\n",
        "\n",
        "print(f\"Eigenvalues: {eigenvalues}\")\n",
        "print(f\"Eigenvectors: \\n{eigenvectors}\")\n",
        "print(f\"U: \\n{U}\")\n",
        "print(f\"S: \\n{S}\")\n",
        "print(f\"Vh: \\n{Vh}\")\n",
        "print(f\"Determinant: {det_A}\")\n",
        "print(f\"Inverse: \\n{inv_A}\")\n",
        "print(f\"Frobenius norm: {frobenius_norm}\")\n",
        "print(f\"L2 norm: {l2_norm}\")\n",
        "print(f\"L1 norm: {l1_norm}\")"
      ],
      "metadata": {
        "colab": {
          "base_uri": "https://localhost:8080/"
        },
        "id": "WizDklaH9uJ5",
        "outputId": "117bc979-1744-4ebe-f22c-ff33c795d9dd"
      },
      "execution_count": 61,
      "outputs": [
        {
          "output_type": "stream",
          "name": "stdout",
          "text": [
            "Eigenvalues: tensor([-2.2106+0.0000j,  1.3685+0.0000j,  0.1551+1.1671j,  0.1551-1.1671j])\n",
            "Eigenvectors: \n",
            "tensor([[ 0.5700+0.0000j,  0.7031+0.0000j, -0.0427-0.3563j, -0.0427+0.3563j],\n",
            "        [-0.6569+0.0000j,  0.6661+0.0000j, -0.7327+0.0000j, -0.7327-0.0000j],\n",
            "        [ 0.4733+0.0000j, -0.2469+0.0000j, -0.4325+0.1806j, -0.4325-0.1806j],\n",
            "        [-0.1400+0.0000j, -0.0317+0.0000j, -0.0223-0.3378j, -0.0223+0.3378j]])\n",
            "U: \n",
            "tensor([[ 0.6749, -0.2045, -0.7040, -0.0842],\n",
            "        [-0.5258,  0.5401, -0.6475, -0.1120],\n",
            "        [-0.5153, -0.8065, -0.2717,  0.1008],\n",
            "        [ 0.0507,  0.1264, -0.1060,  0.9850]])\n",
            "S: \n",
            "tensor([2.7793, 2.2739, 1.6308, 0.4069])\n",
            "Vh: \n",
            "tensor([[-0.2013,  0.1407, -0.5940, -0.7661],\n",
            "        [ 0.7332, -0.3024,  0.3355, -0.5084],\n",
            "        [-0.6336, -0.1856,  0.6519, -0.3731],\n",
            "        [-0.1433, -0.9243, -0.3311,  0.1246]])\n",
            "Determinant: -4.193716049194336\n",
            "Inverse: \n",
            "tensor([[ 0.1883,  0.5032, -0.1526, -0.2686],\n",
            "        [ 0.3328,  0.2296, -0.1169, -2.2397],\n",
            "        [-0.3873,  0.0243, -0.1995, -0.8360],\n",
            "        [-0.0050,  0.1380,  0.4154,  0.2836]])\n",
            "Frobenius norm: 3.9648842811584473\n",
            "L2 norm: 3.7416574954986572\n",
            "L1 norm: 6.0\n"
          ]
        }
      ]
    },
    {
      "cell_type": "code",
      "source": [
        "print(f\"CUDA available: {torch.cuda.is_available()}\")\n",
        "print(f\"CUDA device count: {torch.cuda.device_count()}\")"
      ],
      "metadata": {
        "colab": {
          "base_uri": "https://localhost:8080/"
        },
        "id": "xMNW_OQi96fp",
        "outputId": "5b6a5f7e-c423-439f-ca57-770ba77a3b14"
      },
      "execution_count": 2,
      "outputs": [
        {
          "output_type": "stream",
          "name": "stdout",
          "text": [
            "CUDA available: False\n",
            "CUDA device count: 0\n"
          ]
        }
      ]
    },
    {
      "cell_type": "markdown",
      "source": [
        "**Sorting and Ordering**"
      ],
      "metadata": {
        "id": "Xhy9hZWKmg6F"
      }
    },
    {
      "cell_type": "code",
      "source": [
        "x = torch.tensor([3, 1, 4, 1, 5, 9, 2, 6])\n",
        "\n",
        "sorted_values , sorted_indices = torch.sort(x)\n",
        "sorted_desc , sorted_indices_desc = torch.sort(x, descending=True)\n",
        "\n",
        "print(f'Sorted values: {sorted_values}')\n",
        "print(f'Sorted indices: {sorted_indices}')\n",
        "print(f'Sorted in descending order: {sorted_desc}')\n",
        "print(f'Sorted indices in descending order: {sorted_indices_desc}')"
      ],
      "metadata": {
        "colab": {
          "base_uri": "https://localhost:8080/"
        },
        "id": "uErSek7YmKeA",
        "outputId": "ca59b372-4006-4dcf-fdc1-ccb48b6c9bfe"
      },
      "execution_count": 6,
      "outputs": [
        {
          "output_type": "stream",
          "name": "stdout",
          "text": [
            "Sorted values: tensor([1, 1, 2, 3, 4, 5, 6, 9])\n",
            "Sorted indices: tensor([1, 3, 6, 0, 2, 4, 7, 5])\n",
            "Sorted in descending order: tensor([9, 6, 5, 4, 3, 2, 1, 1])\n",
            "Sorted indices in descending order: tensor([5, 7, 4, 2, 0, 6, 1, 3])\n"
          ]
        }
      ]
    },
    {
      "cell_type": "code",
      "source": [
        "y = torch.randn(3,4)\n",
        "print(y)\n",
        "sorted_values , sorted_indices = torch.sort(y)\n",
        "sorted_desc , sorted_indices_desc = torch.sort(y, descending=True)\n",
        "\n",
        "print(f'Sorted values: {sorted_values}')\n",
        "print(f'Sorted indices: {sorted_indices}')\n",
        "print(f'Sorted in descending order: {sorted_desc}')\n",
        "print(f'Sorted indices in descending order: {sorted_indices_desc}')\n"
      ],
      "metadata": {
        "colab": {
          "base_uri": "https://localhost:8080/"
        },
        "id": "ZkwZ5PMymOt0",
        "outputId": "35b00d87-d400-403c-a83c-5330b1579223"
      },
      "execution_count": 8,
      "outputs": [
        {
          "output_type": "stream",
          "name": "stdout",
          "text": [
            "tensor([[ 1.3203,  0.5153,  0.9079,  0.6897],\n",
            "        [ 1.6206, -0.7875, -0.0500, -0.4639],\n",
            "        [ 2.1329, -0.6817, -0.5304,  0.5189]])\n",
            "Sorted values: tensor([[ 0.5153,  0.6897,  0.9079,  1.3203],\n",
            "        [-0.7875, -0.4639, -0.0500,  1.6206],\n",
            "        [-0.6817, -0.5304,  0.5189,  2.1329]])\n",
            "Sorted indices: tensor([[1, 3, 2, 0],\n",
            "        [1, 3, 2, 0],\n",
            "        [1, 2, 3, 0]])\n",
            "Sorted in descending order: tensor([[ 1.3203,  0.9079,  0.6897,  0.5153],\n",
            "        [ 1.6206, -0.0500, -0.4639, -0.7875],\n",
            "        [ 2.1329,  0.5189, -0.5304, -0.6817]])\n",
            "Sorted indices in descending order: tensor([[0, 2, 3, 1],\n",
            "        [0, 2, 3, 1],\n",
            "        [0, 3, 2, 1]])\n"
          ]
        }
      ]
    },
    {
      "cell_type": "markdown",
      "source": [
        "**Set Operations**"
      ],
      "metadata": {
        "id": "V1IV-uJRnja-"
      }
    },
    {
      "cell_type": "code",
      "source": [
        "x = torch.tensor([1, 2, 3, 4, 5])\n",
        "y = torch.tensor([3, 4, 5, 6, 7])"
      ],
      "metadata": {
        "id": "zqAa0T9jnWs_"
      },
      "execution_count": 9,
      "outputs": []
    },
    {
      "cell_type": "code",
      "source": [
        "intersection = x[torch.isin(x,y)]\n",
        "union = torch.unique(torch.cat([x,y]))\n",
        "difference =  x[~torch.isin(x,y)]\n",
        "\n",
        "\n",
        "print(f'Intersection: {intersection}')\n",
        "print(f'Union: {union}')\n",
        "print(f'Difference: {difference}')"
      ],
      "metadata": {
        "colab": {
          "base_uri": "https://localhost:8080/"
        },
        "id": "x3FMEOxQnygp",
        "outputId": "ddd45530-5e13-4722-aaa0-92b2ba3fffe1"
      },
      "execution_count": 10,
      "outputs": [
        {
          "output_type": "stream",
          "name": "stdout",
          "text": [
            "Intersection: tensor([3, 4, 5])\n",
            "Union: tensor([1, 2, 3, 4, 5, 6, 7])\n",
            "Difference: tensor([1, 2])\n"
          ]
        }
      ]
    },
    {
      "cell_type": "code",
      "source": [
        "from torch.autograd import Function\n",
        "\n",
        "class SquareFunction(Function):\n",
        "    @staticmethod\n",
        "    def forward(ctx, input):\n",
        "        # Save input for backward pass\n",
        "        ctx.save_for_backward(input)\n",
        "        return input ** 2\n",
        "\n",
        "    @staticmethod\n",
        "    def backward(ctx, grad_output):\n",
        "        # Retrieve saved input\n",
        "        input, = ctx.saved_tensors\n",
        "        # Compute gradient: d/dx(x^2) = 2x\n",
        "        grad_input = 2 * input * grad_output\n",
        "        return grad_input\n",
        "\n",
        "# Use custom function\n",
        "square = SquareFunction.apply\n",
        "x = torch.tensor([2.0, 3.0, 4.0], requires_grad=True)\n",
        "y = square(x)\n",
        "y.sum().backward()\n",
        "print(f\"Input: {x}\")\n",
        "print(f\"Output: {y}\")\n",
        "print(f\"Gradient: {x.grad}\")"
      ],
      "metadata": {
        "colab": {
          "base_uri": "https://localhost:8080/"
        },
        "id": "7I3ATYAqoPaB",
        "outputId": "197022cf-bb67-41a9-93c2-ab1265db8d9e"
      },
      "execution_count": 11,
      "outputs": [
        {
          "output_type": "stream",
          "name": "stdout",
          "text": [
            "Input: tensor([2., 3., 4.], requires_grad=True)\n",
            "Output: tensor([ 4.,  9., 16.], grad_fn=<SquareFunctionBackward>)\n",
            "Gradient: tensor([4., 6., 8.])\n"
          ]
        }
      ]
    },
    {
      "cell_type": "markdown",
      "source": [
        "**Image Processing**"
      ],
      "metadata": {
        "id": "cTsmT9eNp72U"
      }
    },
    {
      "cell_type": "code",
      "source": [
        "def normalize_image_batch(images, mean, std):\n",
        "    \"\"\"\n",
        "    Normalize a batch of images\n",
        "    Args:\n",
        "        images: (B, C, H, W) tensor\n",
        "        mean: (C,) tensor\n",
        "        std: (C,) tensor\n",
        "    \"\"\"\n",
        "    # Reshape mean and std for broadcasting\n",
        "    mean = mean.view(1, -1, 1, 1)\n",
        "    std = std.view(1, -1, 1, 1)\n",
        "\n",
        "    return (images - mean) / std\n",
        "\n",
        "# Example usage\n",
        "batch_size, channels, height, width = 32, 3, 224, 224\n",
        "images = torch.randn(batch_size, channels, height, width)\n",
        "mean = torch.tensor([0.485, 0.456, 0.406])\n",
        "std = torch.tensor([0.229, 0.224, 0.225])\n",
        "\n",
        "normalized_images = normalize_image_batch(images, mean, std)\n",
        "print(f\"Normalized images shape: {normalized_images.shape}\")\n",
        "\n",
        "# Data augmentation with tensors\n",
        "def random_crop(image, size):\n",
        "    \"\"\"Random crop of image tensor\"\"\"\n",
        "    c, h, w = image.shape\n",
        "    new_h, new_w = size\n",
        "\n",
        "    if h < new_h or w < new_w:\n",
        "        raise ValueError(\"Crop size larger than image\")\n",
        "\n",
        "    top = torch.randint(0, h - new_h + 1, (1,)).item()\n",
        "    left = torch.randint(0, w - new_w + 1, (1,)).item()\n",
        "\n",
        "    return image[:, top:top+new_h, left:left+new_w]\n",
        "\n",
        "# Example\n",
        "image = torch.randn(3, 256, 256)\n",
        "cropped = random_crop(image, (224, 224))\n",
        "print(f\"Cropped image shape: {cropped.shape}\")"
      ],
      "metadata": {
        "colab": {
          "base_uri": "https://localhost:8080/"
        },
        "id": "UZWzqFYEo-ur",
        "outputId": "cae2e1ca-a1f2-4141-fea4-e12b2bfa19e9"
      },
      "execution_count": 12,
      "outputs": [
        {
          "output_type": "stream",
          "name": "stdout",
          "text": [
            "Normalized images shape: torch.Size([32, 3, 224, 224])\n",
            "Cropped image shape: torch.Size([3, 224, 224])\n"
          ]
        }
      ]
    },
    {
      "cell_type": "markdown",
      "source": [
        "**Time Series Analysis**"
      ],
      "metadata": {
        "id": "Kvq36cDMp355"
      }
    },
    {
      "cell_type": "code",
      "source": [
        "# Create sliding windows for time series\n",
        "def create_sequences(data, seq_length):\n",
        "    \"\"\"Create sequences for time series prediction\"\"\"\n",
        "    sequences = []\n",
        "    targets = []\n",
        "\n",
        "    for i in range(len(data) - seq_length):\n",
        "        seq = data[i:i+seq_length]\n",
        "        target = data[i+seq_length]\n",
        "        sequences.append(seq)\n",
        "        targets.append(target)\n",
        "\n",
        "    return torch.stack(sequences), torch.stack(targets)\n",
        "\n",
        "# Generate sample time series data\n",
        "time_steps = 1000\n",
        "t = torch.linspace(0, 4*torch.pi, time_steps)\n",
        "data = torch.sin(t) + 0.1 * torch.randn(time_steps)\n",
        "\n",
        "# Create sequences\n",
        "seq_length = 50\n",
        "sequences, targets = create_sequences(data, seq_length)\n",
        "\n",
        "print(f\"Sequences shape: {sequences.shape}\")\n",
        "print(f\"Targets shape: {targets.shape}\")\n",
        "\n",
        "# Moving average\n",
        "def moving_average(data, window_size):\n",
        "    \"\"\"Compute moving average\"\"\"\n",
        "    # Create convolution kernel\n",
        "    kernel = torch.ones(window_size) / window_size\n",
        "    # Add batch and channel dimensions\n",
        "    kernel = kernel.view(1, 1, -1)\n",
        "    data = data.view(1, 1, -1)\n",
        "\n",
        "    # Apply convolution\n",
        "    smoothed = torch.nn.functional.conv1d(data, kernel, padding=window_size//2)\n",
        "    return smoothed.squeeze()\n",
        "\n",
        "smoothed_data = moving_average(data, window_size=10)\n",
        "print(f\"Smoothed data shape: {smoothed_data.shape}\")"
      ],
      "metadata": {
        "colab": {
          "base_uri": "https://localhost:8080/"
        },
        "id": "PfKahdJ5pP9O",
        "outputId": "91843279-cf28-4541-ead3-340acc29bc1d"
      },
      "execution_count": 13,
      "outputs": [
        {
          "output_type": "stream",
          "name": "stdout",
          "text": [
            "Sequences shape: torch.Size([950, 50])\n",
            "Targets shape: torch.Size([950])\n",
            "Smoothed data shape: torch.Size([1001])\n"
          ]
        }
      ]
    },
    {
      "cell_type": "markdown",
      "source": [
        "**Natural Language Processing**"
      ],
      "metadata": {
        "id": "pTTbYBULqTlg"
      }
    },
    {
      "cell_type": "code",
      "source": [
        "# Word embedding lookup\n",
        "def create_embedding_layer(vocab_size, embedding_dim):\n",
        "    \"\"\"Create embedding layer\"\"\"\n",
        "    return torch.nn.Embedding(vocab_size, embedding_dim)\n",
        "\n",
        "# Text processing\n",
        "def pad_sequences(sequences, max_length, pad_value=0):\n",
        "    \"\"\"Pad sequences to same length\"\"\"\n",
        "    batch_size = len(sequences)\n",
        "    padded = torch.full((batch_size, max_length), pad_value, dtype=torch.long)\n",
        "\n",
        "    for i, seq in enumerate(sequences):\n",
        "        length = min(len(seq), max_length)\n",
        "        padded[i, :length] = torch.tensor(seq[:length])\n",
        "\n",
        "    return padded\n",
        "\n",
        "# Example usage\n",
        "vocab_size = 10000\n",
        "embedding_dim = 300\n",
        "embedding = create_embedding_layer(vocab_size, embedding_dim)\n",
        "\n",
        "# Sample sequences (token indices)\n",
        "sequences = [\n",
        "    [1, 2, 3, 4, 5],\n",
        "    [6, 7, 8],\n",
        "    [9, 10, 11, 12, 13, 14, 15]\n",
        "]\n",
        "\n",
        "padded_sequences = pad_sequences(sequences, max_length=10)\n",
        "embeddings = embedding(padded_sequences)\n",
        "\n",
        "print(f\"Padded sequences shape: {padded_sequences.shape}\")\n",
        "print(f\"Embeddings shape: {embeddings.shape}\")\n",
        "\n"
      ],
      "metadata": {
        "colab": {
          "base_uri": "https://localhost:8080/"
        },
        "id": "jfExyIIcp2BT",
        "outputId": "eb27fc14-e46d-4af8-effa-23e9ad468364"
      },
      "execution_count": 16,
      "outputs": [
        {
          "output_type": "stream",
          "name": "stdout",
          "text": [
            "Padded sequences shape: torch.Size([3, 10])\n",
            "Embeddings shape: torch.Size([3, 10, 300])\n"
          ]
        }
      ]
    },
    {
      "cell_type": "code",
      "source": [],
      "metadata": {
        "id": "7uS-TlswqE0U"
      },
      "execution_count": null,
      "outputs": []
    }
  ]
}